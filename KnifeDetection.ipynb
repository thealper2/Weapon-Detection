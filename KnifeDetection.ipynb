{
 "cells": [
  {
   "cell_type": "markdown",
   "id": "8ec6ef92-eba3-44c0-8513-05acfb469ee5",
   "metadata": {},
   "source": [
    "# Import Libraries"
   ]
  },
  {
   "cell_type": "code",
   "execution_count": null,
   "id": "6b5fef8f-04e4-47aa-a3e0-5e0856f196eb",
   "metadata": {},
   "outputs": [],
   "source": [
    "import numpy as np\n",
    "import pandas as pd\n",
    "import os\n",
    "import cv2\n",
    "import matplotlib.pyplot as plt\n",
    "import tensorflow as tf\n",
    "import glob\n",
    "import plotly.express as px\n",
    "\n",
    "from PIL import Image\n",
    "from xml.etree import ElementTree\n",
    "from sklearn.model_selection import train_test_split\n",
    "from tensorflow.keras.preprocessing.image import load_img, img_to_array\n",
    "from tensorflow.keras.applications import InceptionResNetV2\n",
    "from tensorflow.keras.models import Model\n",
    "from tensorflow.keras.layers import Dense, Dropout, Flatten, Input\n",
    "from tensorflow.keras.optimizers import Adam\n",
    "from tensorflow.keras.callbacks import EarlyStopping"
   ]
  },
  {
   "cell_type": "markdown",
   "id": "991ce5de-1fee-4af8-8ba8-2a9e98dcc591",
   "metadata": {},
   "source": [
    "# Load Data"
   ]
  },
  {
   "cell_type": "code",
   "execution_count": null,
   "id": "ac03740c-6a1f-4b99-bab1-ff04fc5faf0d",
   "metadata": {},
   "outputs": [],
   "source": [
    "images_dir = \"/mnt/hdd/Datasets/Sohas_weapon-Detection/images\"\n",
    "annotation_dir = \"/mnt/hdd/Datasets/Sohas_weapon-Detection/annotations/xmls\""
   ]
  },
  {
   "cell_type": "code",
   "execution_count": null,
   "id": "8ab7d55f-5a3f-4802-802d-280facf62dc2",
   "metadata": {},
   "outputs": [],
   "source": [
    "xml_files = glob.glob(f\"{annotation_dir}/*.xml\")"
   ]
  },
  {
   "cell_type": "code",
   "execution_count": null,
   "id": "37fff4af-c889-4b54-a67d-3766827c6f93",
   "metadata": {},
   "outputs": [],
   "source": [
    "filepath = []\n",
    "xmin = []\n",
    "xmax = []\n",
    "ymin = []\n",
    "ymax = []\n",
    "labels = []\n",
    "heights = []\n",
    "widths = []\n",
    "\n",
    "for xml_file in xml_files:\n",
    "    info = ElementTree.parse(xml_file)\n",
    "    root = info.getroot()\n",
    "    object = root.find(\"object\")\n",
    "    file_path = root.find(\"filename\").text\n",
    "    file_path = os.path.join(images_dir, file_path)\n",
    "    sizes = root.find(\"size\")\n",
    "    height = int(sizes.find(\"height\").text)\n",
    "    width = int(sizes.find(\"width\").text)\n",
    "    label = 1 if \"knife\" in object.find(\"name\").text.lower() else 0\n",
    "    bnd = object.find(\"bndbox\")\n",
    "\n",
    "    x_min = int(bnd.find(\"xmin\").text)\n",
    "    x_max = int(bnd.find(\"xmax\").text)\n",
    "    y_min = int(bnd.find(\"ymin\").text)\n",
    "    y_max = int(bnd.find(\"ymax\").text)\n",
    "\n",
    "    filepath.append(file_path)\n",
    "    heights.append(height)\n",
    "    labels.append(label)\n",
    "    widths.append(width)\n",
    "    xmin.append(x_min)\n",
    "    xmax.append(x_max)\n",
    "    ymin.append(y_min)\n",
    "    ymax.append(y_max)"
   ]
  },
  {
   "cell_type": "code",
   "execution_count": null,
   "id": "af205117-6971-4a2c-af79-e09c536499ea",
   "metadata": {},
   "outputs": [],
   "source": [
    "df = pd.DataFrame({\n",
    "    \"file_path\": filepath, \n",
    "    \"height\": heights,\n",
    "    \"width\": widths,\n",
    "    \"xmin\": xmin,\n",
    "    \"xmax\": xmax,\n",
    "    \"ymin\": ymin,\n",
    "    \"ymax\": ymax,\n",
    "    \"label\": labels\n",
    "})"
   ]
  },
  {
   "cell_type": "code",
   "execution_count": null,
   "id": "39e6748b-4aa3-401a-bb36-cf4a840c53dd",
   "metadata": {},
   "outputs": [],
   "source": [
    "df.head()"
   ]
  },
  {
   "cell_type": "code",
   "execution_count": null,
   "id": "d59b5bcc-079b-4855-bd6d-566dbe9c1e67",
   "metadata": {},
   "outputs": [],
   "source": [
    "df.label.value_counts()"
   ]
  },
  {
   "cell_type": "code",
   "execution_count": null,
   "id": "5e2a0989-0d6d-4e85-b657-0039f72a097b",
   "metadata": {},
   "outputs": [],
   "source": [
    "df = df[df[\"label\"] == 1].reset_index(drop=True)"
   ]
  },
  {
   "cell_type": "code",
   "execution_count": null,
   "id": "8fb9782d-e6f1-462c-bbf9-f1948353f80a",
   "metadata": {},
   "outputs": [],
   "source": [
    "sample_idx = 61\n",
    "sample_filepath = df.loc[sample_idx][\"file_path\"]\n",
    "sample_width = df.loc[sample_idx][\"width\"]\n",
    "sample_height = df.loc[sample_idx][\"height\"]\n",
    "sample_xmin = df.loc[sample_idx][\"xmin\"]\n",
    "sample_xmax = df.loc[sample_idx][\"xmax\"]\n",
    "sample_ymin = df.loc[sample_idx][\"ymin\"]\n",
    "sample_ymax = df.loc[sample_idx][\"ymax\"]\n",
    "\n",
    "img = cv2.imread(sample_filepath)\n",
    "margin = dict(l=10, r=10, b=10, t=10)\n",
    "fig = px.imshow(img)\n",
    "fig.update_layout(width=sample_width, height=sample_height, margin=margin, title=f\"File - {sample_filepath.split('/')[-1]}\")\n",
    "fig.add_shape(type=\"rect\", x0=sample_xmin, x1=sample_xmax, y0=sample_ymin, y1=sample_ymax, xref=\"x\", yref=\"y\", line_color=\"cyan\")"
   ]
  },
  {
   "cell_type": "markdown",
   "id": "a561b33d-997e-48f1-937f-788bab29e621",
   "metadata": {},
   "source": [
    "# Data Preprocess"
   ]
  },
  {
   "cell_type": "code",
   "execution_count": null,
   "id": "1a4abaf5-21a5-4164-b086-7eb9b417ca76",
   "metadata": {},
   "outputs": [],
   "source": [
    "images = df[\"file_path\"].values"
   ]
  },
  {
   "cell_type": "code",
   "execution_count": null,
   "id": "b693a323-529c-4fea-a4e5-77721838a323",
   "metadata": {},
   "outputs": [],
   "source": [
    "df.loc[0]"
   ]
  },
  {
   "cell_type": "code",
   "execution_count": null,
   "id": "09b58a70-f750-4816-8f61-04bb5e337b89",
   "metadata": {},
   "outputs": [],
   "source": [
    "data = []\n",
    "labels = []\n",
    "\n",
    "for image_idx in range(len(images)):\n",
    "    img = load_img(images[image_idx], target_size=(224, 224))\n",
    "    img_arr = img_to_array(img)\n",
    "    normalized_img = img_arr / 255.0\n",
    "    _, h, w, x_min, x_max, y_min, y_max, _ = df.loc[image_idx]\n",
    "    norm_xmin = x_min / w\n",
    "    norm_xmax = x_max / w\n",
    "    norm_ymin = y_min / h\n",
    "    norm_ymax = y_max / h\n",
    "    norm_label = (norm_xmin, norm_xmax, norm_ymin, norm_ymax)\n",
    "\n",
    "    data.append(normalized_img)\n",
    "    labels.append(norm_label)"
   ]
  },
  {
   "cell_type": "code",
   "execution_count": null,
   "id": "de38db65-d19b-4803-a0c2-03122d16af06",
   "metadata": {},
   "outputs": [],
   "source": [
    "X = np.array(data, dtype=np.float32)\n",
    "y = np.array(labels, dtype=np.float32)"
   ]
  },
  {
   "cell_type": "code",
   "execution_count": null,
   "id": "70dd84df-2b89-412f-b837-bd34e624cb2d",
   "metadata": {},
   "outputs": [],
   "source": [
    "X_train, X_test, y_train, y_test = train_test_split(X, y, test_size=0.2, random_state=42)"
   ]
  },
  {
   "cell_type": "markdown",
   "id": "47685f8b-e4a0-4209-85b7-8c51e6dc12fa",
   "metadata": {},
   "source": [
    "# Model Training"
   ]
  },
  {
   "cell_type": "code",
   "execution_count": null,
   "id": "6c9367d7-bab4-411b-9951-5f6a2b5402b7",
   "metadata": {},
   "outputs": [],
   "source": [
    "base_model = InceptionResNetV2(weights=\"imagenet\", include_top=False, input_shape=(224, 224, 3))"
   ]
  },
  {
   "cell_type": "code",
   "execution_count": null,
   "id": "cf2679bd-e86d-4a6f-87e0-3312bde413c4",
   "metadata": {},
   "outputs": [],
   "source": [
    "x = base_model.output\n",
    "x = Flatten()(x)\n",
    "x = Dense(512, activation=\"relu\")(x)\n",
    "x = Dense(256, activation=\"relu\")(x)\n",
    "predictions = Dense(4, activation=\"sigmoid\")(x)\n",
    "\n",
    "model = Model(inputs=base_model.input, outputs=predictions)"
   ]
  },
  {
   "cell_type": "code",
   "execution_count": null,
   "id": "55ab3f2d-177e-47d0-8df0-0fcaadba9cd2",
   "metadata": {},
   "outputs": [],
   "source": [
    "model.compile(loss=\"mse\", optimizer=Adam(learning_rate=1e-4))"
   ]
  },
  {
   "cell_type": "code",
   "execution_count": null,
   "id": "8400643d-be80-4551-ac6c-f57c7300ac75",
   "metadata": {},
   "outputs": [],
   "source": [
    "board = EarlyStopping(monitor=\"val_loss\", patience=3)"
   ]
  },
  {
   "cell_type": "code",
   "execution_count": null,
   "id": "82b67824-9c34-4107-a8ad-0c9180df0bc4",
   "metadata": {},
   "outputs": [],
   "source": [
    "history = model.fit(X_train, y_train, batch_size=10, epochs=50, validation_data=(X_test, y_test), callbacks=[board])"
   ]
  },
  {
   "cell_type": "code",
   "execution_count": null,
   "id": "3ab46c10-db43-4b9a-bc2f-8df74b78a40b",
   "metadata": {},
   "outputs": [],
   "source": [
    "model.save(\"knife.h5\")"
   ]
  },
  {
   "cell_type": "markdown",
   "id": "4b775e47-27b9-4a15-9448-0c296ed364c0",
   "metadata": {},
   "source": [
    "# Prediction"
   ]
  },
  {
   "cell_type": "code",
   "execution_count": null,
   "id": "a9a513f0-f295-4ea0-b495-2a5c77e29295",
   "metadata": {},
   "outputs": [],
   "source": [
    "def predict_knife_coords(filepath):\n",
    "    img = load_img(filepath, target_size=(224, 224))\n",
    "    img_arr = img_to_array(img)\n",
    "    normalized_img = img_arr / 255.0\n",
    "\n",
    "    h, w = Image.open(filepath).height, Image.open(filepath).width\n",
    "    #print(h, w)\n",
    "    normalized_img_arr = normalized_img.reshape(1, 224, 224, 3)\n",
    "\n",
    "    coords = model.predict(normalized_img_arr, verbose=0)\n",
    "\n",
    "    denorm = np.array([w, w, h, h])\n",
    "    coords = coords * denorm\n",
    "    #print(coords)\n",
    "    coords = coords.astype(np.int32)\n",
    "\n",
    "    test_xmin, test_xmax, test_ymin, test_ymax = coords[0]\n",
    "    test_img = load_img(filepath)\n",
    "    test_img = np.array(test_img)\n",
    "    roi = test_img[test_xmin:test_xmax, test_ymin:test_ymax]\n",
    "\n",
    "    image = cv2.imread(filepath)\n",
    "    margin = dict(l=10, r=10, b=10, t=10)\n",
    "    fig = px.imshow(image)\n",
    "    fig.update_layout(width=w, height=h, margin=margin, title=f\"{filepath.split('/')[-1]}\")\n",
    "    fig.add_shape(type=\"rect\", x0=test_xmin, x1=test_xmax, y0=test_ymin, y1=test_ymax, xref=\"x\", yref=\"y\", line_color=\"green\")\n",
    "    fig.show()"
   ]
  },
  {
   "cell_type": "code",
   "execution_count": null,
   "id": "f821131a-80db-4997-93ed-7534244aaab9",
   "metadata": {},
   "outputs": [],
   "source": [
    "test_file = \"/mnt/hdd/Datasets/Sohas_weapon-Detection/images_test/knife_1215.jpg\""
   ]
  },
  {
   "cell_type": "code",
   "execution_count": null,
   "id": "886e350f-c904-4db2-ba13-4daff7eab881",
   "metadata": {},
   "outputs": [],
   "source": [
    "predict_knife_coords(test_file)"
   ]
  },
  {
   "cell_type": "code",
   "execution_count": null,
   "id": "dbb424cf-a4d0-4481-a07f-3508ce6f45e7",
   "metadata": {},
   "outputs": [],
   "source": []
  }
 ],
 "metadata": {
  "kernelspec": {
   "display_name": "Python 3 (ipykernel)",
   "language": "python",
   "name": "python3"
  },
  "language_info": {
   "codemirror_mode": {
    "name": "ipython",
    "version": 3
   },
   "file_extension": ".py",
   "mimetype": "text/x-python",
   "name": "python",
   "nbconvert_exporter": "python",
   "pygments_lexer": "ipython3",
   "version": "3.10.12"
  }
 },
 "nbformat": 4,
 "nbformat_minor": 5
}
